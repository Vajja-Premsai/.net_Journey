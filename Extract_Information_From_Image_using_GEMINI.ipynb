{
  "nbformat": 4,
  "nbformat_minor": 0,
  "metadata": {
    "colab": {
      "provenance": [],
      "include_colab_link": true
    },
    "kernelspec": {
      "name": "python3",
      "display_name": "Python 3"
    },
    "language_info": {
      "name": "python"
    }
  },
  "cells": [
    {
      "cell_type": "markdown",
      "metadata": {
        "id": "view-in-github",
        "colab_type": "text"
      },
      "source": [
        "<a href=\"https://colab.research.google.com/github/Vajja-Premsai/.net_Journey/blob/main/Extract_Information_From_Image_using_GEMINI.ipynb\" target=\"_parent\"><img src=\"https://colab.research.google.com/assets/colab-badge.svg\" alt=\"Open In Colab\"/></a>"
      ]
    },
    {
      "cell_type": "code",
      "execution_count": 8,
      "metadata": {
        "id": "_2IevCj2_2x0"
      },
      "outputs": [],
      "source": [
        "!pip install -q -U google-generativeai"
      ]
    },
    {
      "cell_type": "code",
      "source": [
        "import google.generativeai as genai"
      ],
      "metadata": {
        "id": "t1O3Je_ENtpf"
      },
      "execution_count": 9,
      "outputs": []
    },
    {
      "cell_type": "markdown",
      "source": [
        "## SET API KEY"
      ],
      "metadata": {
        "id": "LWXvnZL8OHxy"
      }
    },
    {
      "cell_type": "code",
      "source": [
        "# Used to securely store your API key\n",
        "from google.colab import userdata\n",
        "\n",
        "GOOGLE_API_KEY=userdata.get('GOOGLE_API_KEY')\n",
        "\n",
        "genai.configure(api_key=GOOGLE_API_KEY)"
      ],
      "metadata": {
        "id": "rHXNl6qnN3qO"
      },
      "execution_count": 11,
      "outputs": []
    },
    {
      "cell_type": "code",
      "source": [
        "# Model Configuration\n",
        "MODEL_CONFIG = {\n",
        "  \"temperature\": 0.2,\n",
        "  \"top_p\": 1,\n",
        "  \"top_k\": 32,\n",
        "  \"max_output_tokens\": 4096,\n",
        "}\n",
        "\n",
        "## Safety Settings of Model\n",
        "safety_settings = [\n",
        "  {\n",
        "    \"category\": \"HARM_CATEGORY_HARASSMENT\",\n",
        "    \"threshold\": \"BLOCK_MEDIUM_AND_ABOVE\"\n",
        "  },\n",
        "  {\n",
        "    \"category\": \"HARM_CATEGORY_HATE_SPEECH\",\n",
        "    \"threshold\": \"BLOCK_MEDIUM_AND_ABOVE\"\n",
        "  },\n",
        "  {\n",
        "    \"category\": \"HARM_CATEGORY_SEXUALLY_EXPLICIT\",\n",
        "    \"threshold\": \"BLOCK_MEDIUM_AND_ABOVE\"\n",
        "  },\n",
        "  {\n",
        "    \"category\": \"HARM_CATEGORY_DANGEROUS_CONTENT\",\n",
        "    \"threshold\": \"BLOCK_MEDIUM_AND_ABOVE\"\n",
        "  }\n",
        "]"
      ],
      "metadata": {
        "id": "sErUXoOIOMKs"
      },
      "execution_count": 13,
      "outputs": []
    },
    {
      "cell_type": "markdown",
      "source": [
        "## LOAD GEMINI MODEL WITH MODEL CONFIGURATIONS"
      ],
      "metadata": {
        "id": "M0ax-c4kOqE0"
      }
    },
    {
      "cell_type": "code",
      "source": [
        "model = genai.GenerativeModel(model_name = \"gemini-1.5-flash\",\n",
        "                              generation_config = MODEL_CONFIG,\n",
        "                              safety_settings = safety_settings)"
      ],
      "metadata": {
        "id": "kDhL4GY1OuW_"
      },
      "execution_count": 14,
      "outputs": []
    },
    {
      "cell_type": "markdown",
      "source": [
        "## DEFINE IMAGE FORMAT TO INPUT IN GEMINI"
      ],
      "metadata": {
        "id": "Stc93TB3Qzni"
      }
    },
    {
      "cell_type": "code",
      "source": [
        "from pathlib import Path\n",
        "\n",
        "def image_format(image_path):\n",
        "    img = Path(image_path)\n",
        "\n",
        "    if not img.exists():\n",
        "        raise FileNotFoundError(f\"Could not find image: {img}\")\n",
        "\n",
        "    image_parts = [\n",
        "        {\n",
        "            \"mime_type\": \"image/png\", ## Mime type are PNG - image/png. JPEG - image/jpeg. WEBP - image/webp\n",
        "            \"data\": img.read_bytes()\n",
        "        }\n",
        "    ]\n",
        "    return image_parts\n"
      ],
      "metadata": {
        "id": "Eh_FdZ_nO2Xx"
      },
      "execution_count": 15,
      "outputs": []
    },
    {
      "cell_type": "markdown",
      "source": [
        "## GEMINI MODEL OUTPUT"
      ],
      "metadata": {
        "id": "Xau7_2BuQ8ux"
      }
    },
    {
      "cell_type": "code",
      "source": [
        "def gemini_output(image_path, system_prompt, user_prompt):\n",
        "\n",
        "    image_info = image_format(image_path)\n",
        "    input_prompt= [system_prompt, image_info[0], user_prompt]\n",
        "    response = model.generate_content(input_prompt)\n",
        "    return response.text"
      ],
      "metadata": {
        "id": "gkDwnC9NQKSd"
      },
      "execution_count": 16,
      "outputs": []
    },
    {
      "cell_type": "markdown",
      "source": [
        "## EXTRACTING PART OF THE INFORMATION\n"
      ],
      "metadata": {
        "id": "uDGItZ90Re2z"
      }
    },
    {
      "cell_type": "code",
      "source": [
        "system_prompt = \"\"\"\n",
        "               You are a specialist in comprehending receipts.\n",
        "               Input images in the form of receipts will be provided to you,\n",
        "               and your task is to respond to questions based on the content of the input image.\n",
        "               \"\"\"\n",
        "\n",
        "image_path = \"/content/p1.png\"\n",
        "\n",
        "user_prompt = \"Extract the complete text from the image and do not add any addition text\"\n",
        "\n",
        "gemini_output(image_path, system_prompt, user_prompt)"
      ],
      "metadata": {
        "colab": {
          "base_uri": "https://localhost:8080/",
          "height": 70
        },
        "id": "t5Amymj_Quw0",
        "outputId": "393d4003-5656-4174-e52e-32e7f9293410"
      },
      "execution_count": 17,
      "outputs": [
        {
          "output_type": "execute_result",
          "data": {
            "text/plain": [
              "\"Here's a summary of the information from the provided Jamaican Driver's License image:\\n\\n**Government of Jamaica Driver's Licence**\\n\\n* **Class:** GENERAL\\n* **TRN:** 121068820\\n* **Date Issued:** 2022-05-05\\n* **Collectorate:** 011 KINGSTON\\n* **Expiry Date:** 2026-07-20\\n* **Birth Date:** 1990-07-20\\n* **Sex:** F\\n* **Name:** BROWN JELICA ALICIA\\n* **Address:** 30 BROTHERTON AVENUE KINGSTON 13\""
            ],
            "application/vnd.google.colaboratory.intrinsic+json": {
              "type": "string"
            }
          },
          "metadata": {},
          "execution_count": 17
        }
      ]
    },
    {
      "cell_type": "markdown",
      "source": [
        "## EXTRACTING WHOLE DATA IN JSON FROM INVOICE"
      ],
      "metadata": {
        "id": "c1tPGdtfR_sL"
      }
    },
    {
      "cell_type": "code",
      "source": [
        "system_prompt = \"\"\"\n",
        "               You are a specialist in comprehending receipts.\n",
        "               Input images in the form of receipts will be provided to you,\n",
        "               and your task is to respond to questions based on the content of the input image.\n",
        "               \"\"\"\n",
        "#system_prompt = \"Convert Invoice data into json format with appropriate json tags as required for the data in image \"\n",
        "image_path = \"/content/p1.png\"\n",
        "user_prompt = \"Convert data into json format with appropriate json tags as required for the data in image \""
      ],
      "metadata": {
        "id": "QTxNK6EDSUfg"
      },
      "execution_count": 19,
      "outputs": []
    },
    {
      "cell_type": "code",
      "source": [
        "output = gemini_output(image_path, system_prompt, user_prompt)"
      ],
      "metadata": {
        "id": "p6jDPxZITOv1"
      },
      "execution_count": 20,
      "outputs": []
    },
    {
      "cell_type": "code",
      "source": [
        "from IPython.display import Markdown\n",
        "Markdown(output)"
      ],
      "metadata": {
        "id": "aOf5m0YWTQ52",
        "colab": {
          "base_uri": "https://localhost:8080/",
          "height": 347
        },
        "outputId": "88a0f656-b6c5-4aea-8606-6d046f49d1bb"
      },
      "execution_count": 21,
      "outputs": [
        {
          "output_type": "execute_result",
          "data": {
            "text/plain": [
              "<IPython.core.display.Markdown object>"
            ],
            "text/markdown": "```json\n{\n  \"driver_license\": {\n    \"government\": \"GOVERNMENT OF JAMAICA\",\n    \"license_type\": \"DRIVER'S LICENCE\",\n    \"class\": \"GENERAL\",\n    \"trn\": \"121068820\",\n    \"date_issued\": \"2022-05-05\",\n    \"collectorate\": \"011 KINGSTON\",\n    \"expiry_date\": \"2026-07-20\",\n    \"birth_date\": \"1990-07-20\",\n    \"sex\": \"F\",\n    \"name\": {\n      \"last_name\": \"BROWN\",\n      \"first_name\": \"JELICA ALICIA\"\n    },\n    \"address\": \"30 BROTHERTON AVENUE\\nKINGSTON 13\",\n    \"signature\": \"Brown\"\n  }\n}\n```"
          },
          "metadata": {},
          "execution_count": 21
        }
      ]
    },
    {
      "cell_type": "code",
      "source": [],
      "metadata": {
        "id": "O21AfbElTfTm"
      },
      "execution_count": null,
      "outputs": []
    }
  ]
}